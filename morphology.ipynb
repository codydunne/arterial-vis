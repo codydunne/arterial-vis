{
 "cells": [
  {
   "cell_type": "markdown",
   "id": "incident-custody",
   "metadata": {},
   "source": [
    "# ArterialVis Morphology Embedding and Animation"
   ]
  },
  {
   "cell_type": "markdown",
   "id": "greek-hayes",
   "metadata": {},
   "source": [
    "## Import the ArterialVis morphology module"
   ]
  },
  {
   "cell_type": "code",
   "execution_count": null,
   "id": "4810d7a9",
   "metadata": {},
   "outputs": [],
   "source": [
    "from arterialvis.download import make_output_dir\n",
    "from arterialvis.morphology import *"
   ]
  },
  {
   "cell_type": "markdown",
   "id": "compatible-programming",
   "metadata": {},
   "source": [
    "## Get a list of all morphology files"
   ]
  },
  {
   "cell_type": "code",
   "execution_count": null,
   "id": "3cf50813",
   "metadata": {},
   "outputs": [],
   "source": [
    "print(get_files.__doc__)\n",
    "files = get_files()"
   ]
  },
  {
   "cell_type": "markdown",
   "id": "linear-howard",
   "metadata": {},
   "source": [
    "## Create a directory to cache analytics and store outputs"
   ]
  },
  {
   "cell_type": "code",
   "execution_count": null,
   "id": "96165c2f",
   "metadata": {},
   "outputs": [],
   "source": [
    "print(make_output_dir.__doc__)\n",
    "output = make_output_dir(files[0])"
   ]
  },
  {
   "cell_type": "markdown",
   "id": "aboriginal-albuquerque",
   "metadata": {},
   "source": [
    "## Render a simplified morphology, colorcoded by group if available"
   ]
  },
  {
   "cell_type": "code",
   "execution_count": null,
   "id": "95ba88f9",
   "metadata": {},
   "outputs": [],
   "source": [
    "print(build_grouped_graph.__doc__)\n",
    "build_grouped_graph(files[0],output=output)"
   ]
  },
  {
   "cell_type": "code",
   "execution_count": null,
   "id": "0abaf189",
   "metadata": {},
   "outputs": [],
   "source": [
    "print(build_compound_graph.__doc__)\n",
    "build_compound_graph(files[0],output=os.path.join(output))"
   ]
  },
  {
   "cell_type": "markdown",
   "id": "dd6ab492",
   "metadata": {},
   "source": [
    "## Dashboard for comparison\n",
    "\n",
    "The following function is not included as a code cell in-notebook because **you must pause execution of this cell in order to continue on with the notebook**.\n",
    "\n",
    "`build_comparison_dashboard()`"
   ]
  },
  {
   "cell_type": "markdown",
   "id": "saved-disposal",
   "metadata": {},
   "source": [
    "## 3D Rendering of morphology (with colorcoding if available)"
   ]
  },
  {
   "cell_type": "code",
   "execution_count": null,
   "id": "a9554350",
   "metadata": {
    "scrolled": false
   },
   "outputs": [],
   "source": [
    "print(get_edgelist.__doc__)\n",
    "edgelist = get_edgelist(files[0],output=output)\n",
    "print(generate_graph.__doc__)\n",
    "G = generate_graph(edgelist,output=output)\n",
    "print(draw_graph.__doc__)\n",
    "draw_graph(get_3d_traces(G, edgelist),output=output)"
   ]
  },
  {
   "cell_type": "markdown",
   "id": "wound-donor",
   "metadata": {},
   "source": [
    "## Simplifying a graph\n",
    "\n",
    "It is possible to remove all interstitial nodes and only retain bifucations and leaves by removing all nodes with a degree of 2 using the `simplifyGraph` command:"
   ]
  },
  {
   "cell_type": "code",
   "execution_count": null,
   "id": "promising-clearing",
   "metadata": {
    "scrolled": false
   },
   "outputs": [],
   "source": [
    "print(simplifyGraph.__doc__)\n",
    "sparse = simplifyGraph(G,output=output)\n",
    "draw_graph(\n",
    "    get_3d_traces(\n",
    "        G = sparse,\n",
    "        edgelist = edgelist,\n",
    "        nodeSize=5\n",
    "    ),\n",
    "    output=os.path.join(output, 'simplified'))"
   ]
  },
  {
   "cell_type": "markdown",
   "id": "arranged-fight",
   "metadata": {},
   "source": [
    "## Converting 3D morphology to a 2D graph"
   ]
  },
  {
   "cell_type": "markdown",
   "id": "involved-canada",
   "metadata": {},
   "source": [
    "### For a simplified morphology"
   ]
  },
  {
   "cell_type": "code",
   "execution_count": null,
   "id": "closing-neighbor",
   "metadata": {
    "scrolled": false
   },
   "outputs": [],
   "source": [
    "print(draw_graph.__doc__)\n",
    "draw_graph(\n",
    "    get_2d_traces(\n",
    "        G=sparse,\n",
    "        edgelist=edgelist,\n",
    "        nodesize=5\n",
    "    ),\n",
    "    output=os.path.join(output, 'simplified')\n",
    ")"
   ]
  },
  {
   "cell_type": "code",
   "execution_count": null,
   "id": "amended-buffer",
   "metadata": {
    "scrolled": false
   },
   "outputs": [],
   "source": [
    "print(build_animation.__doc__)\n",
    "build_animation(\n",
    "    G=sparse,\n",
    "    edgelist=edgelist,\n",
    "    output=os.path.join(output,'sparse_animation'))"
   ]
  },
  {
   "cell_type": "markdown",
   "id": "binding-cannon",
   "metadata": {},
   "source": [
    "### For the complete morphology (Note: SLOW)"
   ]
  },
  {
   "cell_type": "code",
   "execution_count": null,
   "id": "41904210",
   "metadata": {},
   "outputs": [],
   "source": [
    "print(extract_real_abstract.__doc__)\n",
    "real_edgelist, abstract_edgelist, extended_edgelist = extract_real_abstract(\n",
    "    G=G,\n",
    "    edgelist=edgelist,\n",
    "    output=os.path.join(output, 'complete'))"
   ]
  },
  {
   "cell_type": "code",
   "execution_count": null,
   "id": "c84e8649",
   "metadata": {},
   "outputs": [],
   "source": [
    "draw_graph(\n",
    "    get_3d_traces(\n",
    "        G=G,\n",
    "        edgelist=real_edgelist\n",
    "    ),\n",
    "    output=os.path.join(output,'complete'))"
   ]
  },
  {
   "cell_type": "markdown",
   "id": "associate-locator",
   "metadata": {},
   "source": [
    "## Generating an animation between complex 3D and 2D representation"
   ]
  },
  {
   "cell_type": "code",
   "execution_count": null,
   "id": "edfb4e80",
   "metadata": {
    "scrolled": false
   },
   "outputs": [],
   "source": [
    "build_animation(G=G, edgelist=edgelist, output=os.path.join(output,'complex_animation'))"
   ]
  }
 ],
 "metadata": {
  "kernelspec": {
   "display_name": "ArterialVis environment",
   "language": "python",
   "name": "arterialenv"
  },
  "language_info": {
   "codemirror_mode": {
    "name": "ipython",
    "version": 3
   },
   "file_extension": ".py",
   "mimetype": "text/x-python",
   "name": "python",
   "nbconvert_exporter": "python",
   "pygments_lexer": "ipython3",
   "version": "3.8.3"
  }
 },
 "nbformat": 4,
 "nbformat_minor": 5
}
